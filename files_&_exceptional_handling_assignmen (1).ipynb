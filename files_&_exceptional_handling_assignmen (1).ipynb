{
  "nbformat": 4,
  "nbformat_minor": 0,
  "metadata": {
    "colab": {
      "provenance": []
    },
    "kernelspec": {
      "name": "python3",
      "display_name": "Python 3"
    },
    "language_info": {
      "name": "python"
    }
  },
  "cells": [
    {
      "cell_type": "markdown",
      "source": [
        "# files & exceptional handling assignmen"
      ],
      "metadata": {
        "id": "lYLeIjmQpE28"
      }
    },
    {
      "cell_type": "markdown",
      "source": [
        "1. What is the difference between interpreted and compiled languages?\n",
        " -  In interpreted languages, code is executed line-by-line by an interpreter at runtime, meaning no separate executable file is generated. Examples include Python and JavaScript. Compiled languages, on the other hand, require the code to be translated into machine code by a compiler before execution, producing an independent executable file. Examples include C and C++. Interpreted languages are easier to debug but generally slower, while compiled languages tend to be faster but less flexible during runtime.\n",
        "\n",
        "2. What is exception handling in Python?\n",
        " -  Exception handling in Python is a mechanism to deal with errors or exceptional situations gracefully without abruptly terminating the program. It involves using try, except, else, and finally blocks to catch exceptions and take corrective action, ensuring the application continues running smoothly or fails in a controlled manner.\n",
        "\n",
        "3. What is the purpose of the finally block in exception handling?\n",
        " -  The finally block is used to define code that must be executed regardless of whether an exception occurs or not. It is commonly used for cleanup actions like closing files, releasing resources, or disconnecting from databases to prevent resource leaks.\n",
        "\n",
        "4. What is logging in Python?\n",
        " -  Logging in Python refers to recording messages, events, or errors during a program’s execution. It helps developers monitor program behavior, debug issues, and track system activity. The logging module provides a standardized way to log messages at different severity levels such as debug, info, warning, error, and critical.\n",
        "\n",
        "5. What is the significance of the __del__ method in Python?\n",
        " -  The __del__ method is a special method in Python, called a destructor, that is automatically invoked when an object is about to be destroyed. It’s often used to release resources or perform cleanup before the object is removed from memory. However, its use is generally discouraged in favor of context managers.\n",
        "\n",
        "6. What is the difference between import and from ... import in Python?\n",
        " -  Using import imports the entire module, requiring you to prefix functions or variables with the module name. For example, import math requires math.sqrt(4). In contrast, from ... import allows importing specific functions, classes, or variables from a module directly, such as from math import sqrt, enabling you to use sqrt(4) without the module prefix.\n",
        "\n",
        "7. How can you handle multiple exceptions in Python?\n",
        " -  Multiple exceptions can be handled using multiple except blocks, each specifying a different exception type. Alternatively, a single except block can handle multiple exceptions by grouping them in parentheses, such as except (TypeError, ValueError) as e:.\n",
        "\n",
        "8. What is the purpose of the with statement when handling files in Python?\n",
        " -  The with statement ensures that a file is properly opened and closed automatically, even if an exception occurs during file operations. It simplifies resource management and reduces the risk of file leaks by automatically calling the file’s close() method when the block is exited.\n",
        "\n",
        "9. What is the difference between multithreading and multiprocessing?\n",
        " -  Multithreading involves running multiple threads within the same process, sharing memory space, making it lightweight but limited by Python’s Global Interpreter Lock (GIL). Multiprocessing uses separate processes, each with its own memory space, allowing true parallel execution but with higher memory and communication overhead.\n",
        "\n",
        "10. What are the advantages of using logging in a program?\n",
        " - Logging provides a permanent record of events, errors, and system behavior. It aids in debugging, performance monitoring, and auditing. Unlike print() statements, logging can be configured to record messages at various severity levels and to output logs to files, consoles, or external systems.\n",
        "\n",
        "11. What is memory management in Python?\n",
        " -  Python handles memory management automatically using a private heap where all objects are stored. It includes built-in garbage collection to reclaim unused memory. Developers can also manage memory usage by deleting references to objects and using efficient data structures.\n",
        "\n",
        "12. What are the basic steps involved in exception handling in Python?\n",
        " -  The steps are: wrap the code in a try block, catch exceptions using one or more except blocks, optionally use else for code that runs when no exception occurs, and finally for cleanup actions.\n",
        "\n",
        "13. Why is memory management important in Python?\n",
        " -  Efficient memory management prevents excessive memory consumption, which could slow down or crash applications. Proper memory handling ensures smooth program execution, especially for large-scale or resource-intensive applications.\n",
        "\n",
        "14. What is the role of try and except in exception handling?\n",
        " -  The try block contains code that might raise exceptions, while the except block catches and handles specific or general exceptions, allowing the program to recover gracefully or exit cleanly without crashing.\n",
        "\n",
        "15. How does Python's garbage collection system work?\n",
        " -  Python uses reference counting to track the number of references to an object. When the count drops to zero, the object is deleted. It also uses a cyclic garbage collector to clean up objects involved in reference cycles that cannot be freed through reference counting alone.\n",
        "\n",
        "16. What is the purpose of the else block in exception handling?\n",
        " -  The else block runs only if no exception occurs in the try block. It’s typically used for code that should execute when the try block succeeds, keeping it separate from exception-handling logic.\n",
        "\n",
        "17. What are the common logging levels in Python?\n",
        " -  The main logging levels are DEBUG (detailed diagnostic information), INFO (general application events), WARNING (potential problems), ERROR (errors that affect functionality), and CRITICAL (serious errors causing program termination).\n",
        "\n",
        "18. What is the difference between os.fork() and multiprocessing in Python?\n",
        " -  os.fork() is a low-level Unix/Linux system call that creates a new process by duplicating the current one, available only on Unix-like systems. The multiprocessing module is cross-platform, higher-level, and provides an API for creating and managing processes with better portability and control.\n",
        "\n",
        "19. What is the importance of closing a file in Python?\n",
        " -  Closing a file releases the system resources associated with it and ensures that all buffered data is written to disk. Failing to close files can lead to resource leaks or data corruption.\n",
        "\n",
        "20. What is the difference between file.read() and file.readline() in Python?\n",
        " -  file.read() reads the entire file (or a specified number of characters) into a single string, while file.readline() reads only one line at a time, including the newline character.\n",
        "\n",
        "21. What is the logging module in Python used for?\n",
        " -  The logging module is a built-in Python library that provides a flexible framework for emitting log messages from programs. It supports different logging levels, output destinations, and formatting options.\n",
        "\n",
        "22. What is the os module in Python used for in file handling?\n",
        " -  The os module provides functions for interacting with the operating system, including file handling tasks like creating, removing, renaming, and checking the existence of files and directories.\n",
        "\n",
        "23. What are the challenges associated with memory management in Python?\n",
        " -  Challenges include dealing with reference cycles, managing large data structures efficiently, avoiding memory leaks caused by lingering references, and optimizing memory use for performance-critical applications.\n",
        "\n",
        "24. How do you raise an exception manually in Python?\n",
        " -  An exception can be raised manually using the raise keyword followed by the exception type, such as raise ValueError(\"Invalid input\"). This is useful for enforcing constraints or signaling errors intentionally.\n",
        "\n",
        "25. Why is it important to use multithreading in certain applications?\n",
        " -  Multithreading is useful for tasks involving I/O-bound operations, such as network requests or file operations, where threads can work concurrently without being limited by CPU processing speed. It improves responsiveness and efficiency in such applications."
      ],
      "metadata": {
        "id": "6CtaEJEKpJ9-"
      }
    },
    {
      "cell_type": "code",
      "source": [
        "# How can you open a file for writing in Python and write a string to it?\n",
        "\n",
        "with open(\"example.txt\", \"w\") as file:\n",
        "    file.write(\"Hello, Python file handling!\")\n",
        "\n",
        "print(\"Data written successfully.\")\n"
      ],
      "metadata": {
        "colab": {
          "base_uri": "https://localhost:8080/"
        },
        "id": "FKtGLrIfsgOH",
        "outputId": "460fbd53-c407-47c4-eb7e-b1a722ccb1d6"
      },
      "execution_count": null,
      "outputs": [
        {
          "output_type": "stream",
          "name": "stdout",
          "text": [
            "Data written successfully.\n"
          ]
        }
      ]
    },
    {
      "cell_type": "code",
      "source": [
        "# Write a Python program to read the contents of a file and print each line\n",
        "\n",
        "# Open the file in read mode\n",
        "with open(\"example.txt\", \"r\") as file:\n",
        "    # Loop through each line in the file\n",
        "    for line in file:\n",
        "        print(line.strip())  # strip() removes extra newline characters\n"
      ],
      "metadata": {
        "colab": {
          "base_uri": "https://localhost:8080/"
        },
        "id": "c66npmJitIbn",
        "outputId": "bad32eec-3985-4a93-f3db-3f6d5a4b5512"
      },
      "execution_count": null,
      "outputs": [
        {
          "output_type": "stream",
          "name": "stdout",
          "text": [
            "Hello, Python file handling!\n"
          ]
        }
      ]
    },
    {
      "cell_type": "code",
      "source": [
        "# How would you handle a case where the file doesn't exist while trying to open it for reading\n",
        "try:\n",
        "    with open(\"example.txt\", \"r\") as file:\n",
        "        for line in file:\n",
        "            print(line.strip())\n",
        "except FileNotFoundError:\n",
        "    print(\"Error: The file does not exist.\")\n"
      ],
      "metadata": {
        "colab": {
          "base_uri": "https://localhost:8080/"
        },
        "id": "5wDH2ITLtcGb",
        "outputId": "baa608a7-b64f-4487-9953-814e4328ee65"
      },
      "execution_count": null,
      "outputs": [
        {
          "output_type": "stream",
          "name": "stdout",
          "text": [
            "Hello, Python file handling!\n"
          ]
        }
      ]
    },
    {
      "cell_type": "code",
      "source": [
        "#  Write a Python script that reads from one file and writes its content to another file\n",
        "\n",
        "try:\n",
        "    with open(\"source.txt\", \"r\") as src_file:\n",
        "        content = src_file.read()\n",
        "\n",
        "    with open(\"destination.txt\", \"w\") as dest_file:\n",
        "        dest_file.write(content)\n",
        "\n",
        "    print(\"File copied successfully.\")\n",
        "\n",
        "except FileNotFoundError:\n",
        "    print(\"Error: Source file not found.\")\n"
      ],
      "metadata": {
        "colab": {
          "base_uri": "https://localhost:8080/"
        },
        "id": "-fk5TE1bt2sU",
        "outputId": "a74099be-1a51-496c-b635-1dc9bfc73fb2"
      },
      "execution_count": null,
      "outputs": [
        {
          "output_type": "stream",
          "name": "stdout",
          "text": [
            "Error: Source file not found.\n"
          ]
        }
      ]
    },
    {
      "cell_type": "code",
      "source": [
        "#  How would you catch and handle division by zero error in Python\n",
        "try:\n",
        "    numerator = 10\n",
        "    denominator = 0\n",
        "    result = numerator / denominator\n",
        "    print(\"Result:\", result)\n",
        "except ZeroDivisionError:\n",
        "    print(\"Error: Division by zero is not allowed.\")\n"
      ],
      "metadata": {
        "colab": {
          "base_uri": "https://localhost:8080/"
        },
        "id": "zCplWeXBuBud",
        "outputId": "8b841116-d7e9-4eee-9ec1-c0edcfd2cb36"
      },
      "execution_count": null,
      "outputs": [
        {
          "output_type": "stream",
          "name": "stdout",
          "text": [
            "Error: Division by zero is not allowed.\n"
          ]
        }
      ]
    },
    {
      "cell_type": "code",
      "source": [
        "# Write a Python program that logs an error message to a log file when a division by zero exception occurs\n",
        "import logging\n",
        "\n",
        "# Configure logging to write to a file\n",
        "logging.basicConfig(\n",
        "    filename=\"errors.log\",\n",
        "    level=logging.ERROR,\n",
        "    format=\"%(asctime)s - %(levelname)s - %(message)s\"\n",
        ")\n",
        "\n",
        "try:\n",
        "    numerator = 10\n",
        "    denominator = 0\n",
        "    result = numerator / denominator\n",
        "except ZeroDivisionError as e:\n",
        "    logging.error(\"Division by zero occurred: %s\", e)\n",
        "    print(\"An error occurred. Check errors.log for details.\")\n",
        "\n"
      ],
      "metadata": {
        "colab": {
          "base_uri": "https://localhost:8080/"
        },
        "id": "p6A6B6mCuKeh",
        "outputId": "bb2167af-a6c5-47b1-b1ee-2a3cad190aff"
      },
      "execution_count": null,
      "outputs": [
        {
          "output_type": "stream",
          "name": "stderr",
          "text": [
            "ERROR:root:Division by zero occurred: division by zero\n"
          ]
        },
        {
          "output_type": "stream",
          "name": "stdout",
          "text": [
            "An error occurred. Check errors.log for details.\n"
          ]
        }
      ]
    },
    {
      "cell_type": "code",
      "source": [
        "#  How do you log information at different levels (INFO, ERROR, WARNING) in Python using the logging module\n",
        "import logging\n",
        "\n",
        "# Configure logging\n",
        "logging.basicConfig(\n",
        "    filename=\"app.log\",       # Log file name\n",
        "    level=logging.DEBUG,      # Minimum level to capture\n",
        "    format=\"%(asctime)s - %(levelname)s - %(message)s\"\n",
        ")\n",
        "\n",
        "# Logging at different levels\n",
        "logging.debug(\"This is a DEBUG message - useful for detailed troubleshooting.\")\n",
        "logging.info(\"This is an INFO message - general information.\")\n",
        "logging.warning(\"This is a WARNING message - something unexpected happened.\")\n",
        "logging.error(\"This is an ERROR message - a serious problem occurred.\")\n",
        "logging.critical(\"This is a CRITICAL message - severe error, program may not continue.\")\n"
      ],
      "metadata": {
        "colab": {
          "base_uri": "https://localhost:8080/"
        },
        "id": "-fgEI9ntvhAs",
        "outputId": "a4409f3f-29f7-4079-d19b-1e33ab6a5eb6"
      },
      "execution_count": null,
      "outputs": [
        {
          "output_type": "stream",
          "name": "stderr",
          "text": [
            "WARNING:root:This is a WARNING message - something unexpected happened.\n",
            "ERROR:root:This is an ERROR message - a serious problem occurred.\n",
            "CRITICAL:root:This is a CRITICAL message - severe error, program may not continue.\n"
          ]
        }
      ]
    },
    {
      "cell_type": "code",
      "source": [
        "#  Write a program to handle a file opening error using exception handling\n",
        "try:\n",
        "    # Attempt to open a file that may not exist\n",
        "    with open(\"data.txt\", \"r\") as file:\n",
        "        content = file.read()\n",
        "        print(content)\n",
        "\n",
        "except FileNotFoundError:\n",
        "    print(\"Error: The file 'data.txt' was not found.\")\n",
        "\n",
        "except PermissionError:\n",
        "    print(\"Error: You do not have permission to open this file.\")\n",
        "\n",
        "except Exception as e:\n",
        "    print(f\"An unexpected error occurred: {e}\")\n"
      ],
      "metadata": {
        "colab": {
          "base_uri": "https://localhost:8080/"
        },
        "id": "ZnCbS6NWw7we",
        "outputId": "e5a7d5ca-6ad6-4683-c2fa-24c4933e0e63"
      },
      "execution_count": null,
      "outputs": [
        {
          "output_type": "stream",
          "name": "stdout",
          "text": [
            "Error: The file 'data.txt' was not found.\n"
          ]
        }
      ]
    },
    {
      "cell_type": "code",
      "source": [
        "# How can you read a file line by line and store its content in a list in Python\n",
        "lines = []\n",
        "with open(\"example.txt\", \"r\") as file:\n",
        "    for line in file:\n",
        "        lines.append(line.strip())  # strip() removes extra spaces/newlines\n",
        "\n",
        "print(lines)\n"
      ],
      "metadata": {
        "colab": {
          "base_uri": "https://localhost:8080/"
        },
        "id": "0S7Vt6IByeBi",
        "outputId": "c6ea74b2-6628-4217-9b1e-1f2e2776266d"
      },
      "execution_count": null,
      "outputs": [
        {
          "output_type": "stream",
          "name": "stdout",
          "text": [
            "['Hello, Python file handling!']\n"
          ]
        }
      ]
    },
    {
      "cell_type": "code",
      "source": [
        "# How can you append data to an existing file in Python\n",
        "# Append text to an existing file\n",
        "with open(\"example.txt\", \"a\") as file:\n",
        "    file.write(\"\\nThis is an appended line.\")\n",
        "\n",
        "print(\"Data appended successfully.\")\n"
      ],
      "metadata": {
        "colab": {
          "base_uri": "https://localhost:8080/"
        },
        "id": "iWC9J494y61C",
        "outputId": "9781a4e0-c3c2-4265-dca1-84f173a97aca"
      },
      "execution_count": null,
      "outputs": [
        {
          "output_type": "stream",
          "name": "stdout",
          "text": [
            "Data appended successfully.\n"
          ]
        }
      ]
    },
    {
      "cell_type": "code",
      "source": [
        "# Write a Python program that uses a try-except block to handle an error when attempting to access a dictionary key that doesn't exist\n",
        "# Sample dictionary\n",
        "student = {\n",
        "    \"name\": \"Alice\",\n",
        "    \"age\": 21\n",
        "}\n",
        "\n",
        "try:\n",
        "    # Attempt to access a non-existent key\n",
        "    grade = student[\"grade\"]\n",
        "    print(\"Grade:\", grade)\n",
        "\n",
        "except KeyError:\n",
        "    print(\"Error: The key 'grade' does not exist in the dictionary.\")\n"
      ],
      "metadata": {
        "id": "Znbp3NBX1Zsd"
      },
      "execution_count": null,
      "outputs": []
    },
    {
      "cell_type": "code",
      "source": [
        "# Write a program that demonstrates using multiple except blocks to handle different types of exception\n",
        "try:\n",
        "    # Example: division and file reading\n",
        "    num = int(input(\"Enter a number: \"))\n",
        "    result = 10 / num  # May cause ZeroDivisionError\n",
        "\n",
        "    with open(\"data.txt\", \"r\") as file:\n",
        "        content = file.read()  # May cause FileNotFoundError\n",
        "        print(content)\n",
        "\n",
        "except ZeroDivisionError:\n",
        "    print(\"Error: Division by zero is not allowed.\")\n",
        "\n",
        "except FileNotFoundError:\n",
        "    print(\"Error: The file was not found.\")\n",
        "\n",
        "except ValueError:\n",
        "    print(\"Error: Invalid input. Please enter a valid number.\")\n",
        "\n",
        "except Exception as e:\n",
        "    print(f\"An unexpected error occurred: {e}\")\n"
      ],
      "metadata": {
        "colab": {
          "base_uri": "https://localhost:8080/"
        },
        "id": "dnAjw6jK2OB6",
        "outputId": "0b04c551-418c-474a-cd5f-8d6592a60424"
      },
      "execution_count": null,
      "outputs": [
        {
          "output_type": "stream",
          "name": "stdout",
          "text": [
            "Enter a number:  55\n",
            "Error: The file was not found.\n"
          ]
        }
      ]
    },
    {
      "cell_type": "code",
      "source": [
        "# How would you check if a file exists before attempting to read it in Python\n",
        "from pathlib import Path\n",
        "\n",
        "file_path = Path(\"example.txt\")\n",
        "\n",
        "if file_path.exists():\n",
        "    with open(file_path, \"r\") as file:\n",
        "        content = file.read()\n",
        "        print(content)\n",
        "else:\n",
        "    print(f\"Error: The file '{file_path}' does not exist.\")\n"
      ],
      "metadata": {
        "id": "cxDKp6824m6t"
      },
      "execution_count": null,
      "outputs": []
    },
    {
      "cell_type": "code",
      "source": [
        "# Write a program that uses the logging module to log both informational and error messages\n",
        "import logging\n",
        "\n",
        "# Configure logging\n",
        "logging.basicConfig(\n",
        "    filename=\"app.log\",           # Log file name\n",
        "    level=logging.DEBUG,          # Minimum logging level to capture\n",
        "    format=\"%(asctime)s - %(levelname)s - %(message)s\"\n",
        ")\n",
        "\n",
        "# Log an informational message\n",
        "logging.info(\"Application started successfully.\")\n",
        "\n",
        "# Simulate some processing\n",
        "try:\n",
        "    num1 = 10\n",
        "    num2 = 0\n",
        "    result = num1 / num2  # Will cause ZeroDivisionError\n",
        "    logging.info(f\"Result: {result}\")\n",
        "\n",
        "except ZeroDivisionError as e:\n",
        "    logging.error(f\"Error occurred: {e}\")\n",
        "\n",
        "# Continue program execution\n",
        "logging.info(\"Application finished execution.\")\n"
      ],
      "metadata": {
        "colab": {
          "base_uri": "https://localhost:8080/"
        },
        "id": "6olpEvuG5RGQ",
        "outputId": "831d51ce-eb08-4eed-a810-c699b7a0a064"
      },
      "execution_count": null,
      "outputs": [
        {
          "output_type": "stream",
          "name": "stderr",
          "text": [
            "ERROR:root:Error occurred: division by zero\n"
          ]
        }
      ]
    },
    {
      "cell_type": "code",
      "source": [
        "# F Write a Python program that prints the content of a file and handles the case when the file is empty\n",
        "try:\n",
        "    with open(\"example.txt\", \"r\") as file:\n",
        "        content = file.read()\n",
        "\n",
        "        if content.strip():  # Check if content is not just whitespace\n",
        "            print(\"File Content:\\n\")\n",
        "            print(content)\n",
        "        else:\n",
        "            print(\"The file is empty.\")\n",
        "\n",
        "except FileNotFoundError:\n",
        "    print(\"Error: The file does not exist.\")\n",
        "except PermissionError:\n",
        "    print(\"Error: You do not have permission to read the file.\")\n",
        "except Exception as e:\n",
        "    print(f\"An unexpected error occurred: {e}\")\n"
      ],
      "metadata": {
        "colab": {
          "base_uri": "https://localhost:8080/"
        },
        "id": "GVjfePOH62HR",
        "outputId": "393f4a56-892c-4d9d-dd14-aa1bef8a31b6"
      },
      "execution_count": null,
      "outputs": [
        {
          "output_type": "stream",
          "name": "stdout",
          "text": [
            "File Content:\n",
            "\n",
            "Hello, Python file handling!\n",
            "This is an appended line.\n"
          ]
        }
      ]
    },
    {
      "cell_type": "code",
      "source": [
        "# Demonstrate how to use memory profiling to check the memory usage of a small program\n",
        "from memory_profiler import profile\n",
        "\n",
        "@profile\n",
        "def main():\n",
        "    # Create a large list to see memory usage change\n",
        "    data = [i for i in range(1_000_000)]\n",
        "    print(\"List created with\", len(data), \"items\")\n",
        "    del data  # Free memory\n",
        "\n",
        "if __name__ == \"__main__\":\n",
        "    main()\n"
      ],
      "metadata": {
        "colab": {
          "base_uri": "https://localhost:8080/",
          "height": 383
        },
        "id": "1qZmzivC7O2q",
        "outputId": "fac90ed1-11df-4949-bb79-ce3ea9dc19c2"
      },
      "execution_count": null,
      "outputs": [
        {
          "output_type": "error",
          "ename": "ModuleNotFoundError",
          "evalue": "No module named 'memory_profiler'",
          "traceback": [
            "\u001b[0;31m---------------------------------------------------------------------------\u001b[0m",
            "\u001b[0;31mModuleNotFoundError\u001b[0m                       Traceback (most recent call last)",
            "\u001b[0;32m/tmp/ipython-input-4287153342.py\u001b[0m in \u001b[0;36m<cell line: 0>\u001b[0;34m()\u001b[0m\n\u001b[1;32m      1\u001b[0m \u001b[0;31m# Demonstrate how to use memory profiling to check the memory usage of a small program\u001b[0m\u001b[0;34m\u001b[0m\u001b[0;34m\u001b[0m\u001b[0m\n\u001b[0;32m----> 2\u001b[0;31m \u001b[0;32mfrom\u001b[0m \u001b[0mmemory_profiler\u001b[0m \u001b[0;32mimport\u001b[0m \u001b[0mprofile\u001b[0m\u001b[0;34m\u001b[0m\u001b[0;34m\u001b[0m\u001b[0m\n\u001b[0m\u001b[1;32m      3\u001b[0m \u001b[0;34m\u001b[0m\u001b[0m\n\u001b[1;32m      4\u001b[0m \u001b[0;34m@\u001b[0m\u001b[0mprofile\u001b[0m\u001b[0;34m\u001b[0m\u001b[0;34m\u001b[0m\u001b[0m\n\u001b[1;32m      5\u001b[0m \u001b[0;32mdef\u001b[0m \u001b[0mmain\u001b[0m\u001b[0;34m(\u001b[0m\u001b[0;34m)\u001b[0m\u001b[0;34m:\u001b[0m\u001b[0;34m\u001b[0m\u001b[0;34m\u001b[0m\u001b[0m\n",
            "\u001b[0;31mModuleNotFoundError\u001b[0m: No module named 'memory_profiler'",
            "",
            "\u001b[0;31m---------------------------------------------------------------------------\u001b[0;32m\nNOTE: If your import is failing due to a missing package, you can\nmanually install dependencies using either !pip or !apt.\n\nTo view examples of installing some common dependencies, click the\n\"Open Examples\" button below.\n\u001b[0;31m---------------------------------------------------------------------------\u001b[0m\n"
          ],
          "errorDetails": {
            "actions": [
              {
                "action": "open_url",
                "actionText": "Open Examples",
                "url": "/notebooks/snippets/importing_libraries.ipynb"
              }
            ]
          }
        }
      ]
    },
    {
      "cell_type": "code",
      "source": [
        "# Write a Python program to create and write a list of numbers to a file, one number per lineF\n",
        "# Create a list of numbers\n",
        "numbers = [1, 2, 3, 4, 5]\n",
        "\n",
        "# Write numbers to a file\n",
        "with open(\"numbers.txt\", \"w\") as file:\n",
        "    for num in numbers:\n",
        "        file.write(f\"{num}\\n\")\n",
        "\n",
        "print(\"Numbers written to 'numbers.txt' successfully.\")\n",
        "\n"
      ],
      "metadata": {
        "colab": {
          "base_uri": "https://localhost:8080/"
        },
        "id": "tBkCszhU9nwX",
        "outputId": "9bcbc806-3cb4-4bce-b41a-ddeb56b3f513"
      },
      "execution_count": null,
      "outputs": [
        {
          "output_type": "stream",
          "name": "stdout",
          "text": [
            "Numbers written to 'numbers.txt' successfully.\n"
          ]
        }
      ]
    },
    {
      "cell_type": "code",
      "source": [
        "# How would you implement a basic logging setup that logs to a file with rotation after 1MB\n",
        "import logging\n",
        "from logging.handlers import RotatingFileHandler\n",
        "\n",
        "# Configure rotating log file handler\n",
        "handler = RotatingFileHandler(\n",
        "    \"app.log\",        # Log file name\n",
        "    maxBytes=1_000_000,  # Rotate after 1MB\n",
        "    backupCount=5        # Keep last 5 log files\n",
        ")\n",
        "\n",
        "# Create logging format\n",
        "formatter = logging.Formatter(\"%(asctime)s - %(levelname)s - %(message)s\")\n",
        "handler.setFormatter(formatter)\n",
        "\n",
        "# Set up the logger\n",
        "logger = logging.getLogger(\"MyLogger\")\n",
        "logger.setLevel(logging.DEBUG)\n",
        "logger.addHandler(handler)\n",
        "\n",
        "# Example logs\n",
        "for i in range(10000):\n",
        "    logger.info(f\"This is log message number {i}\")\n",
        "\n",
        "\n"
      ],
      "metadata": {
        "colab": {
          "base_uri": "https://localhost:8080/",
          "height": 106
        },
        "id": "dGhZ7bPCBaQz",
        "outputId": "0018bcd9-0194-4c00-d33e-917855003062"
      },
      "execution_count": null,
      "outputs": [
        {
          "output_type": "error",
          "ename": "IndentationError",
          "evalue": "unindent does not match any outer indentation level (<tokenize>, line 25)",
          "traceback": [
            "\u001b[0;36m  File \u001b[0;32m\"<tokenize>\"\u001b[0;36m, line \u001b[0;32m25\u001b[0m\n\u001b[0;31m    k\u001b[0m\n\u001b[0m    ^\u001b[0m\n\u001b[0;31mIndentationError\u001b[0m\u001b[0;31m:\u001b[0m unindent does not match any outer indentation level\n"
          ]
        }
      ]
    },
    {
      "cell_type": "code",
      "source": [
        "# Write a program that handles both IndexError and KeyError using a try-except block\n",
        "# Sample data\n",
        "my_list = [10, 20, 30]\n",
        "my_dict = {\"name\": \"Alice\", \"age\": 25}\n",
        "\n",
        "try:\n",
        "    # Attempt to access invalid list index\n",
        "    value = my_list[5]\n",
        "    print(\"List value:\", value)\n",
        "\n",
        "    # Attempt to access missing dictionary key\n",
        "    grade = my_dict[\"grade\"]\n",
        "    print(\"Grade:\", grade)\n",
        "\n",
        "except IndexError:\n",
        "    print(\"Error: List index is out of range.\")\n",
        "\n",
        "except KeyError:\n",
        "    print(\"Error: Dictionary key not found.\")\n"
      ],
      "metadata": {
        "id": "ZvsfKMpKBkRZ"
      },
      "execution_count": null,
      "outputs": []
    },
    {
      "cell_type": "code",
      "source": [
        "# How would you open a file and read its contents using a context manager in Python\n",
        "# Using a context manager to read a file\n",
        "with open(\"example.txt\", \"r\") as file:\n",
        "    content = file.read()\n",
        "    print(content)\n"
      ],
      "metadata": {
        "id": "K8gsvXc-B-_T"
      },
      "execution_count": null,
      "outputs": []
    },
    {
      "cell_type": "code",
      "source": [
        "# Write a Python program that reads a file and prints the number of occurrences of a specific word\n",
        "# Ask user for the file name and word to search\n",
        "file_name = \"sample.txt\"   # Change this to your file name\n",
        "word_to_search = \"python\"  # Word to search (case-insensitive)\n",
        "\n",
        "try:\n",
        "    with open(file_name, \"r\") as file:\n",
        "        content = file.read().lower()  # Read file and convert to lowercase\n",
        "        count = content.split().count(word_to_search.lower())\n",
        "\n",
        "    print(f\"The word '{word_to_search}' appears {count} times in '{file_name}'.\")\n",
        "\n",
        "except FileNotFoundError:\n",
        "    print(f\"Error: The file '{file_name}' does not exist.\")\n"
      ],
      "metadata": {
        "colab": {
          "base_uri": "https://localhost:8080/"
        },
        "id": "wcS4Ug4PCI-I",
        "outputId": "38c4ec0e-07ba-4e4e-86ad-2dbe97abed74"
      },
      "execution_count": null,
      "outputs": [
        {
          "output_type": "stream",
          "name": "stdout",
          "text": [
            "Error: The file 'sample.txt' does not exist.\n"
          ]
        }
      ]
    },
    {
      "cell_type": "code",
      "source": [
        "# How can you check if a file is empty before attempting to read its contents\n",
        "import os\n",
        "\n",
        "file_path = \"sample.txt\"  # Change this to your file\n",
        "\n",
        "if os.path.exists(file_path):\n",
        "    if os.path.getsize(file_path) == 0:\n",
        "        print(\"The file is empty.\")\n",
        "    else:\n",
        "        with open(file_path, \"r\") as file:\n",
        "            print(file.read())\n",
        "else:\n",
        "    print(\"The file does not exist.\")\n"
      ],
      "metadata": {
        "id": "ZKHDj9N9CVVR"
      },
      "execution_count": null,
      "outputs": []
    },
    {
      "cell_type": "code",
      "source": [
        "# Write a Python program that writes to a log file when an error occurs during file handling.\n",
        "import logging\n",
        "\n",
        "# Configure logging to write errors to a file\n",
        "logging.basicConfig(\n",
        "    filename=\"file_errors.log\",\n",
        "    level=logging.ERROR,\n",
        "    format=\"%(asctime)s - %(levelname)s - %(message)s\"\n",
        ")\n",
        "\n",
        "file_path = \"non_existing_file.txt\"\n",
        "\n",
        "try:\n",
        "    with open(file_path, \"r\") as file:\n",
        "        content = file.read()\n",
        "        print(content)\n",
        "\n",
        "except FileNotFoundError as e:\n",
        "    logging.error(f\"File not found: {file_path} - {e}\")\n",
        "    print(\"Error: The file does not exist.\")\n",
        "\n",
        "except PermissionError as e:\n",
        "    logging.error(f\"Permission denied: {file_path} - {e}\")\n",
        "    print(\"Error: You do not have permission to read the file.\")\n",
        "\n",
        "except Exception as e:\n",
        "    logging.error(f\"Unexpected error while handling file {file_path} - {e}\")\n",
        "    print(\"An unexp\n"
      ],
      "metadata": {
        "colab": {
          "base_uri": "https://localhost:8080/",
          "height": 106
        },
        "id": "73_ppANVC8LO",
        "outputId": "0df0f7f9-3cdb-4377-d7c0-633508a3fcbc"
      },
      "execution_count": null,
      "outputs": [
        {
          "output_type": "error",
          "ename": "SyntaxError",
          "evalue": "unterminated string literal (detected at line 28) (ipython-input-1676770221.py, line 28)",
          "traceback": [
            "\u001b[0;36m  File \u001b[0;32m\"/tmp/ipython-input-1676770221.py\"\u001b[0;36m, line \u001b[0;32m28\u001b[0m\n\u001b[0;31m    print(\"An unexp\u001b[0m\n\u001b[0m          ^\u001b[0m\n\u001b[0;31mSyntaxError\u001b[0m\u001b[0;31m:\u001b[0m unterminated string literal (detected at line 28)\n"
          ]
        }
      ]
    }
  ]
}